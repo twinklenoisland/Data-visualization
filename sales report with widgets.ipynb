{
 "cells": [
  {
   "cell_type": "code",
   "execution_count": 1,
   "metadata": {},
   "outputs": [],
   "source": [
    "import os\n",
    "import pandas as pd\n",
    "import ipywidgets as widgets\n",
    "from ipywidgets import interact, interact_manual\n",
    "\n",
    "os.chdir(\"C:\\\\Users\\\\lijy\\\\OneDrive - CentraleSupelec\\\\商联周报\\\\20190715-20190721\")"
   ]
  },
  {
   "cell_type": "code",
   "execution_count": 2,
   "metadata": {},
   "outputs": [],
   "source": [
    "sales_growth = pd.read_csv(\"caa_sales_growth.csv\")\n",
    "retailer_sales_growth = pd.read_csv(\"retailer_sales_growth.csv\")\n",
    "cat2_4wk = pd.read_csv(\"caa_cate2_4_weeks_uplift_result.csv\")"
   ]
  },
  {
   "cell_type": "code",
   "execution_count": 3,
   "metadata": {},
   "outputs": [
    {
     "data": {
      "text/plain": [
       "14"
      ]
     },
     "execution_count": 3,
     "metadata": {},
     "output_type": "execute_result"
    }
   ],
   "source": [
    "# check number of unique retailers == 18\n",
    "retailer_sales_growth.retailer_name.nunique()"
   ]
  },
  {
   "cell_type": "code",
   "execution_count": 4,
   "metadata": {},
   "outputs": [
    {
     "data": {
      "text/plain": [
       "array(['海纳星地', '乐城', '安德利', '浙江万客隆', '日照新世纪', '万福隆', '海港超市', '保真超市',\n",
       "       '宏业绿城', '新天地', '亿丰', '邯郸阳光', '新乐', '三和'], dtype=object)"
      ]
     },
     "execution_count": 4,
     "metadata": {},
     "output_type": "execute_result"
    }
   ],
   "source": [
    "retailer_sales_growth.retailer_name.unique()"
   ]
  },
  {
   "cell_type": "markdown",
   "metadata": {},
   "source": [
    "### Clean data"
   ]
  },
  {
   "cell_type": "code",
   "execution_count": 5,
   "metadata": {},
   "outputs": [],
   "source": [
    "result_huanbi = pd.read_csv(\"result_huanbi.csv\",encoding='utf_8_sig',sep=';',header=None)\n",
    "result_tongbi = pd.read_csv(\"result_tongbi.csv\",encoding='utf_8_sig',sep=';',header=None)"
   ]
  },
  {
   "cell_type": "code",
   "execution_count": 6,
   "metadata": {},
   "outputs": [
    {
     "data": {
      "text/html": [
       "<div>\n",
       "<style scoped>\n",
       "    .dataframe tbody tr th:only-of-type {\n",
       "        vertical-align: middle;\n",
       "    }\n",
       "\n",
       "    .dataframe tbody tr th {\n",
       "        vertical-align: top;\n",
       "    }\n",
       "\n",
       "    .dataframe thead th {\n",
       "        text-align: right;\n",
       "    }\n",
       "</style>\n",
       "<table border=\"1\" class=\"dataframe\">\n",
       "  <thead>\n",
       "    <tr style=\"text-align: right;\">\n",
       "      <th></th>\n",
       "      <th>0</th>\n",
       "      <th>check_delimiter</th>\n",
       "    </tr>\n",
       "  </thead>\n",
       "  <tbody>\n",
       "  </tbody>\n",
       "</table>\n",
       "</div>"
      ],
      "text/plain": [
       "Empty DataFrame\n",
       "Columns: [0, check_delimiter]\n",
       "Index: []"
      ]
     },
     "execution_count": 6,
     "metadata": {},
     "output_type": "execute_result"
    }
   ],
   "source": [
    "# check huanbi\n",
    "result_huanbi[\"check_delimiter\"] = result_huanbi.iloc[:,0].apply(lambda i: len(i.split(\",\")))\n",
    "result_huanbi[result_huanbi[\"check_delimiter\"]>5]"
   ]
  },
  {
   "cell_type": "code",
   "execution_count": 7,
   "metadata": {},
   "outputs": [
    {
     "data": {
      "text/html": [
       "<div>\n",
       "<style scoped>\n",
       "    .dataframe tbody tr th:only-of-type {\n",
       "        vertical-align: middle;\n",
       "    }\n",
       "\n",
       "    .dataframe tbody tr th {\n",
       "        vertical-align: top;\n",
       "    }\n",
       "\n",
       "    .dataframe thead th {\n",
       "        text-align: right;\n",
       "    }\n",
       "</style>\n",
       "<table border=\"1\" class=\"dataframe\">\n",
       "  <thead>\n",
       "    <tr style=\"text-align: right;\">\n",
       "      <th></th>\n",
       "      <th>0</th>\n",
       "      <th>check_delimiter</th>\n",
       "    </tr>\n",
       "  </thead>\n",
       "  <tbody>\n",
       "    <tr>\n",
       "      <th>98763</th>\n",
       "      <td>欣安插座新国标JH810/10A,3米,五金器具,\\N,45.00,6927844581035</td>\n",
       "      <td>6</td>\n",
       "    </tr>\n",
       "  </tbody>\n",
       "</table>\n",
       "</div>"
      ],
      "text/plain": [
       "                                                     0  check_delimiter\n",
       "98763  欣安插座新国标JH810/10A,3米,五金器具,\\N,45.00,6927844581035                6"
      ]
     },
     "execution_count": 7,
     "metadata": {},
     "output_type": "execute_result"
    }
   ],
   "source": [
    "# check tongbi\n",
    "result_tongbi[\"check_delimiter\"] = result_tongbi.iloc[:,0].apply(lambda i: len(i.split(\",\")))\n",
    "result_tongbi[result_tongbi[\"check_delimiter\"]>5]"
   ]
  },
  {
   "cell_type": "code",
   "execution_count": 8,
   "metadata": {},
   "outputs": [],
   "source": [
    "def clean_row(row):\n",
    "    lst = row.split(\",\")\n",
    "    if len(lst) > 5:\n",
    "        row = row.replace(',', '', 1)\n",
    "    return row"
   ]
  },
  {
   "cell_type": "code",
   "execution_count": 9,
   "metadata": {},
   "outputs": [],
   "source": [
    "def clean_result(df):\n",
    "    df.iloc[:,0] = df.iloc[:,0].apply(clean_row)\n",
    "    df = df.iloc[:,0].str.split(',', expand=True)\n",
    "    df.columns = [\"商品\",\"二级品类\",\"本周销售额\",\"对比周销售额\",\"条形码\"]\n",
    "    # replace \\N\n",
    "    df[\"本周销售额\"] = df[\"本周销售额\"].apply(lambda i: i.replace(\"\\\\N\",\"0\"))\n",
    "    df[\"对比周销售额\"] = df[\"对比周销售额\"].apply(lambda i: i.replace(\"\\\\N\",\"0\"))\n",
    "    df[\"本周销售额\"] = df[\"本周销售额\"].astype(float)\n",
    "    df[\"对比周销售额\"] = df[\"对比周销售额\"].astype(float)\n",
    "    df[\"增长\"] = df[\"本周销售额\"] - df[\"对比周销售额\"]\n",
    "    return df"
   ]
  },
  {
   "cell_type": "code",
   "execution_count": 10,
   "metadata": {},
   "outputs": [],
   "source": [
    "result_huanbi = clean_result(result_huanbi)\n",
    "result_tongbi = clean_result(result_tongbi)"
   ]
  },
  {
   "cell_type": "code",
   "execution_count": 11,
   "metadata": {},
   "outputs": [],
   "source": [
    "result_huanbi.to_csv(\"result_huanbi_adj.csv\")\n",
    "result_tongbi.to_csv(\"result_tongbi_adj.csv\")"
   ]
  },
  {
   "cell_type": "markdown",
   "metadata": {},
   "source": [
    "### 销售表现"
   ]
  },
  {
   "cell_type": "markdown",
   "metadata": {},
   "source": [
    "#### for graph"
   ]
  },
  {
   "cell_type": "code",
   "execution_count": 12,
   "metadata": {},
   "outputs": [
    {
     "data": {
      "text/html": [
       "<div>\n",
       "<style scoped>\n",
       "    .dataframe tbody tr th:only-of-type {\n",
       "        vertical-align: middle;\n",
       "    }\n",
       "\n",
       "    .dataframe tbody tr th {\n",
       "        vertical-align: top;\n",
       "    }\n",
       "\n",
       "    .dataframe thead th {\n",
       "        text-align: right;\n",
       "    }\n",
       "</style>\n",
       "<table border=\"1\" class=\"dataframe\">\n",
       "  <thead>\n",
       "    <tr style=\"text-align: right;\">\n",
       "      <th>kpi_type</th>\n",
       "      <th>store_format_desc</th>\n",
       "      <th>tongbi</th>\n",
       "      <th>huanbi</th>\n",
       "    </tr>\n",
       "  </thead>\n",
       "  <tbody>\n",
       "    <tr>\n",
       "      <th>1</th>\n",
       "      <td>商联</td>\n",
       "      <td>-0.041261</td>\n",
       "      <td>0.006842</td>\n",
       "    </tr>\n",
       "    <tr>\n",
       "      <th>2</th>\n",
       "      <td>大卖场</td>\n",
       "      <td>1.187456</td>\n",
       "      <td>-0.011568</td>\n",
       "    </tr>\n",
       "    <tr>\n",
       "      <th>3</th>\n",
       "      <td>大型超市</td>\n",
       "      <td>-0.112583</td>\n",
       "      <td>-0.002235</td>\n",
       "    </tr>\n",
       "    <tr>\n",
       "      <th>0</th>\n",
       "      <td>便利店</td>\n",
       "      <td>-0.046061</td>\n",
       "      <td>0.022403</td>\n",
       "    </tr>\n",
       "    <tr>\n",
       "      <th>4</th>\n",
       "      <td>小超市/生鲜店</td>\n",
       "      <td>0.023013</td>\n",
       "      <td>0.006825</td>\n",
       "    </tr>\n",
       "  </tbody>\n",
       "</table>\n",
       "</div>"
      ],
      "text/plain": [
       "kpi_type store_format_desc    tongbi    huanbi\n",
       "1                       商联 -0.041261  0.006842\n",
       "2                      大卖场  1.187456 -0.011568\n",
       "3                     大型超市 -0.112583 -0.002235\n",
       "0                      便利店 -0.046061  0.022403\n",
       "4                  小超市/生鲜店  0.023013  0.006825"
      ]
     },
     "execution_count": 12,
     "metadata": {},
     "output_type": "execute_result"
    }
   ],
   "source": [
    "sales_growth_pivot = pd.pivot_table(sales_growth, values = \"growth_rate\",columns = \"kpi_type\",index = \"store_format_desc\").reset_index()\n",
    "\n",
    "# reorder\n",
    "sales_growth_pivot['store_format_desc'] = sales_growth_pivot['store_format_desc'].astype('category')\n",
    "store_order = [\"商联\",\"大卖场\",\"大型超市\",\"便利店\",\"小超市/生鲜店\"]\n",
    "sales_growth_pivot['store_format_desc'].cat.reorder_categories(store_order, inplace=True)\n",
    "sales_growth_pivot.sort_values('store_format_desc', inplace=True)\n",
    "rate_order = [\"store_format_desc\",\"tongbi\",\"huanbi\"]\n",
    "sales_growth_pivot[rate_order]"
   ]
  },
  {
   "cell_type": "markdown",
   "metadata": {},
   "source": [
    "#### 增幅排名"
   ]
  },
  {
   "cell_type": "code",
   "execution_count": 13,
   "metadata": {},
   "outputs": [
    {
     "data": {
      "application/vnd.jupyter.widget-view+json": {
       "model_id": "37d9ebab581542d3b92c1027cd2fe24e",
       "version_major": 2,
       "version_minor": 0
      },
      "text/plain": [
       "interactive(children=(Dropdown(description='store_format', options=('大卖场', '大型超市', '便利店', '小超市/生鲜店'), value='大…"
      ]
     },
     "metadata": {},
     "output_type": "display_data"
    }
   ],
   "source": [
    "@interact\n",
    "def retailer_rank(store_format=[\"大卖场\",\"大型超市\",\"便利店\",\"小超市/生鲜店\"],kpi_type=[\"tongbi\",\"huanbi\"]):\n",
    "    growth = retailer_sales_growth[(retailer_sales_growth.kpi_type == kpi_type) & (retailer_sales_growth.retailer_growth_rate > 0)]\n",
    "    top3 = growth[growth.store_format_desc == store_format].sort_values(\"retailer_growth_rate\",ascending = False)[[\"retailer_name\"]].head(3)\n",
    "    return top3"
   ]
  },
  {
   "cell_type": "markdown",
   "metadata": {},
   "source": [
    "### Sales by category"
   ]
  },
  {
   "cell_type": "code",
   "execution_count": 16,
   "metadata": {},
   "outputs": [],
   "source": [
    "cat2_sales_growth = pd.read_csv(\"category_level2_sales_growth.csv\")"
   ]
  },
  {
   "cell_type": "code",
   "execution_count": 17,
   "metadata": {},
   "outputs": [
    {
     "data": {
      "application/vnd.jupyter.widget-view+json": {
       "model_id": "8230719f425148dc8f1a64ab8519c16e",
       "version_major": 2,
       "version_minor": 0
      },
      "text/plain": [
       "interactive(children=(Dropdown(description='category', options=('食品大类', '非食大类', '百货和其他大类'), value='食品大类'), Dro…"
      ]
     },
     "metadata": {},
     "output_type": "display_data"
    }
   ],
   "source": [
    "@interact\n",
    "def show_top_cat(category=[\"食品大类\",\"非食大类\",\"百货和其他大类\"],kpi_type=[\"tongbi\",\"huanbi\"]):\n",
    "    df = cat2_sales_growth[(cat2_sales_growth['category_desc1'] == category) & (cat2_sales_growth.kpi_type == kpi_type) & (cat2_sales_growth.category_level2_growth_rate > 0)]\n",
    "    df_top = df.sort_values(by = \"category_level2_growth_rate\", ascending = False).head(8)\n",
    "    return df_top[[\"category_desc2\"]]"
   ]
  },
  {
   "cell_type": "code",
   "execution_count": 18,
   "metadata": {},
   "outputs": [
    {
     "data": {
      "application/vnd.jupyter.widget-view+json": {
       "model_id": "ee823950163648ceab44314d3db51f1a",
       "version_major": 2,
       "version_minor": 0
      },
      "text/plain": [
       "interactive(children=(Dropdown(description='category', options=('食品大类', '非食大类', '百货和其他大类'), value='食品大类'), Dro…"
      ]
     },
     "metadata": {},
     "output_type": "display_data"
    }
   ],
   "source": [
    "# return top products\n",
    "@interact\n",
    "def top_products(category=[\"食品大类\",\"非食大类\",\"百货和其他大类\"],kpi_type=[\"huanbi\",\"tongbi\"],rank=(1,8,1)):\n",
    "    if kpi_type == \"tongbi\":\n",
    "        df = result_tongbi\n",
    "    else:\n",
    "        df = result_huanbi\n",
    "    condition = (df[\"二级品类\"] == show_top_cat(category,kpi_type).iloc[rank-1,0]) & (df[\"增长\"]>0) & (df[\"条形码\"] != 'N')\n",
    "    result = df[condition].sort_values(by=\"增长\",ascending=False).head(4)\n",
    "    return result[[\"商品\",\"条形码\",\"二级品类\"]]"
   ]
  },
  {
   "cell_type": "code",
   "execution_count": 16,
   "metadata": {},
   "outputs": [
    {
     "data": {
      "application/vnd.jupyter.widget-view+json": {
       "model_id": "b0736d9d34f2408b9fb97666217eb2e4",
       "version_major": 2,
       "version_minor": 0
      },
      "text/plain": [
       "interactive(children=(Dropdown(description='category', options=('食品大类', '非食大类', '百货和其他大类'), value='食品大类'), Out…"
      ]
     },
     "metadata": {},
     "output_type": "display_data"
    }
   ],
   "source": [
    "# 未来四周增长\n",
    "@interact\n",
    "def future_4wk(category=[\"食品大类\",\"非食大类\",\"百货和其他大类\"]):\n",
    "    df = cat2_4wk[(cat2_4wk.category_desc1 == category) & (cat2_4wk.category_level2_rate > 0)]\n",
    "    df = df.sort_values(by = \"category_level2_rate\",ascending = False)[[\"category_desc2\",\"category_level2_rate\"]].head(10)\n",
    "    return df\n",
    "    "
   ]
  },
  {
   "cell_type": "markdown",
   "metadata": {},
   "source": [
    "### 热门单品榜"
   ]
  },
  {
   "cell_type": "code",
   "execution_count": 17,
   "metadata": {},
   "outputs": [],
   "source": [
    "pop_df = pd.read_csv(\"caa_popular_product.csv\", encoding='utf_8_sig')\n",
    "new_df = pd.read_csv(\"caa_new_product.csv\", encoding = 'utf_8_sig')"
   ]
  },
  {
   "cell_type": "code",
   "execution_count": 18,
   "metadata": {},
   "outputs": [
    {
     "data": {
      "text/html": [
       "<div>\n",
       "<style scoped>\n",
       "    .dataframe tbody tr th:only-of-type {\n",
       "        vertical-align: middle;\n",
       "    }\n",
       "\n",
       "    .dataframe tbody tr th {\n",
       "        vertical-align: top;\n",
       "    }\n",
       "\n",
       "    .dataframe thead th {\n",
       "        text-align: right;\n",
       "    }\n",
       "</style>\n",
       "<table border=\"1\" class=\"dataframe\">\n",
       "  <thead>\n",
       "    <tr style=\"text-align: right;\">\n",
       "      <th></th>\n",
       "      <th>prod_desc</th>\n",
       "      <th>prod_barcode</th>\n",
       "    </tr>\n",
       "  </thead>\n",
       "  <tbody>\n",
       "    <tr>\n",
       "      <th>0</th>\n",
       "      <td>农夫山泉天然水550ml</td>\n",
       "      <td>6921168592555</td>\n",
       "    </tr>\n",
       "    <tr>\n",
       "      <th>1</th>\n",
       "      <td>泉阳泉矿泉水</td>\n",
       "      <td>6924613686625</td>\n",
       "    </tr>\n",
       "    <tr>\n",
       "      <th>2</th>\n",
       "      <td>康师傅红茶</td>\n",
       "      <td>6922507096369</td>\n",
       "    </tr>\n",
       "    <tr>\n",
       "      <th>3</th>\n",
       "      <td>可口550ml冰露水</td>\n",
       "      <td>6954767470573</td>\n",
       "    </tr>\n",
       "    <tr>\n",
       "      <th>4</th>\n",
       "      <td>怡宝矿泉水</td>\n",
       "      <td>6901285991233</td>\n",
       "    </tr>\n",
       "    <tr>\n",
       "      <th>5</th>\n",
       "      <td>农夫山泉天然水</td>\n",
       "      <td>6921168509256</td>\n",
       "    </tr>\n",
       "    <tr>\n",
       "      <th>6</th>\n",
       "      <td>康师傅冰红茶550ml</td>\n",
       "      <td>6940038005018</td>\n",
       "    </tr>\n",
       "    <tr>\n",
       "      <th>7</th>\n",
       "      <td>蒙牛100G*8风味酸牛奶原味圆周杯</td>\n",
       "      <td>6934665091117</td>\n",
       "    </tr>\n",
       "    <tr>\n",
       "      <th>8</th>\n",
       "      <td>红牛饮料原味型</td>\n",
       "      <td>6920202888883</td>\n",
       "    </tr>\n",
       "    <tr>\n",
       "      <th>9</th>\n",
       "      <td>景田百岁山饮用天然矿泉水570ml*24/箱</td>\n",
       "      <td>6922255466476</td>\n",
       "    </tr>\n",
       "  </tbody>\n",
       "</table>\n",
       "</div>"
      ],
      "text/plain": [
       "                prod_desc   prod_barcode\n",
       "0            农夫山泉天然水550ml  6921168592555\n",
       "1                  泉阳泉矿泉水  6924613686625\n",
       "2                   康师傅红茶  6922507096369\n",
       "3              可口550ml冰露水  6954767470573\n",
       "4                   怡宝矿泉水  6901285991233\n",
       "5                 农夫山泉天然水  6921168509256\n",
       "6             康师傅冰红茶550ml  6940038005018\n",
       "7      蒙牛100G*8风味酸牛奶原味圆周杯  6934665091117\n",
       "8                 红牛饮料原味型  6920202888883\n",
       "9  景田百岁山饮用天然矿泉水570ml*24/箱  6922255466476"
      ]
     },
     "execution_count": 18,
     "metadata": {},
     "output_type": "execute_result"
    }
   ],
   "source": [
    "pop_df.sort_values(by='visitpntr',ascending=False)[[\"prod_desc\",\"prod_barcode\"]].head(10)"
   ]
  },
  {
   "cell_type": "code",
   "execution_count": 19,
   "metadata": {},
   "outputs": [
    {
     "data": {
      "text/html": [
       "<div>\n",
       "<style scoped>\n",
       "    .dataframe tbody tr th:only-of-type {\n",
       "        vertical-align: middle;\n",
       "    }\n",
       "\n",
       "    .dataframe tbody tr th {\n",
       "        vertical-align: top;\n",
       "    }\n",
       "\n",
       "    .dataframe thead th {\n",
       "        text-align: right;\n",
       "    }\n",
       "</style>\n",
       "<table border=\"1\" class=\"dataframe\">\n",
       "  <thead>\n",
       "    <tr style=\"text-align: right;\">\n",
       "      <th></th>\n",
       "      <th>prod_desc</th>\n",
       "      <th>prod_barcode</th>\n",
       "    </tr>\n",
       "  </thead>\n",
       "  <tbody>\n",
       "    <tr>\n",
       "      <th>0</th>\n",
       "      <td>璐璐凯帝铝框万向轮拉杆箱ABS+PC-24寸</td>\n",
       "      <td>6943509801126</td>\n",
       "    </tr>\n",
       "    <tr>\n",
       "      <th>2</th>\n",
       "      <td>龙江明珠16cm奶锅</td>\n",
       "      <td>6930890200256</td>\n",
       "    </tr>\n",
       "    <tr>\n",
       "      <th>1</th>\n",
       "      <td>双枪塑料砧板ZB0041</td>\n",
       "      <td>6921988316157</td>\n",
       "    </tr>\n",
       "    <tr>\n",
       "      <th>3</th>\n",
       "      <td>蒙牛227g缔芝特黄油</td>\n",
       "      <td>6923644277215</td>\n",
       "    </tr>\n",
       "    <tr>\n",
       "      <th>4</th>\n",
       "      <td>全棉健康夏凉被200*230</td>\n",
       "      <td>6970676130049</td>\n",
       "    </tr>\n",
       "    <tr>\n",
       "      <th>5</th>\n",
       "      <td>山润100%菜籽油5L</td>\n",
       "      <td>6941287806906</td>\n",
       "    </tr>\n",
       "    <tr>\n",
       "      <th>6</th>\n",
       "      <td>洁柔FACE天然无香8连包抽纸</td>\n",
       "      <td>6914068022123</td>\n",
       "    </tr>\n",
       "    <tr>\n",
       "      <th>7</th>\n",
       "      <td>爵百莉英伦香蜂草水润盈彩洗发露600毫升</td>\n",
       "      <td>5016889001705</td>\n",
       "    </tr>\n",
       "    <tr>\n",
       "      <th>8</th>\n",
       "      <td>君乐宝800G乐纯婴儿配方奶粉</td>\n",
       "      <td>6922577726777</td>\n",
       "    </tr>\n",
       "    <tr>\n",
       "      <th>9</th>\n",
       "      <td>可心柔小碎花360张3层软抽6连包VF1301-6</td>\n",
       "      <td>6957270913056</td>\n",
       "    </tr>\n",
       "  </tbody>\n",
       "</table>\n",
       "</div>"
      ],
      "text/plain": [
       "                   prod_desc   prod_barcode\n",
       "0     璐璐凯帝铝框万向轮拉杆箱ABS+PC-24寸  6943509801126\n",
       "2                 龙江明珠16cm奶锅  6930890200256\n",
       "1               双枪塑料砧板ZB0041  6921988316157\n",
       "3                蒙牛227g缔芝特黄油  6923644277215\n",
       "4             全棉健康夏凉被200*230  6970676130049\n",
       "5                山润100%菜籽油5L  6941287806906\n",
       "6            洁柔FACE天然无香8连包抽纸  6914068022123\n",
       "7       爵百莉英伦香蜂草水润盈彩洗发露600毫升  5016889001705\n",
       "8            君乐宝800G乐纯婴儿配方奶粉  6922577726777\n",
       "9  可心柔小碎花360张3层软抽6连包VF1301-6  6957270913056"
      ]
     },
     "execution_count": 19,
     "metadata": {},
     "output_type": "execute_result"
    }
   ],
   "source": [
    "new_df.sort_values(by='prod_rank',ascending=False)[[\"prod_desc\",\"prod_barcode\"]].head(10)"
   ]
  }
 ],
 "metadata": {
  "kernelspec": {
   "display_name": "Python 3",
   "language": "python",
   "name": "python3"
  },
  "language_info": {
   "codemirror_mode": {
    "name": "ipython",
    "version": 3
   },
   "file_extension": ".py",
   "mimetype": "text/x-python",
   "name": "python",
   "nbconvert_exporter": "python",
   "pygments_lexer": "ipython3",
   "version": "3.7.3"
  },
  "toc": {
   "base_numbering": 1,
   "nav_menu": {},
   "number_sections": true,
   "sideBar": true,
   "skip_h1_title": false,
   "title_cell": "Table of Contents",
   "title_sidebar": "Contents",
   "toc_cell": false,
   "toc_position": {
    "height": "calc(100% - 180px)",
    "left": "10px",
    "top": "150px",
    "width": "165px"
   },
   "toc_section_display": true,
   "toc_window_display": true
  }
 },
 "nbformat": 4,
 "nbformat_minor": 2
}
